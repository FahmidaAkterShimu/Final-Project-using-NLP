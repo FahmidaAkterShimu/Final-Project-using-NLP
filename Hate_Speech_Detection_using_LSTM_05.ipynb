{
  "cells": [
    {
      "cell_type": "markdown",
      "metadata": {
        "id": "view-in-github",
        "colab_type": "text"
      },
      "source": [
        "<a href=\"https://colab.research.google.com/github/FahmidaAkterShimu/Final-Project-using-NLP/blob/main/Hate_Speech_Detection_using_LSTM.ipynb5\" target=\"_parent\"><img src=\"https://colab.research.google.com/assets/colab-badge.svg\" alt=\"Open In Colab\"/></a>"
      ]
    },
    {
      "cell_type": "code",
      "source": [
        "# 1. Importing libraries\n",
        "import pandas as pd\n",
        "import numpy as np\n",
        "import spacy\n",
        "import seaborn as sns\n",
        "import matplotlib.pyplot as plt\n",
        "import pickle\n",
        "from sklearn.model_selection import train_test_split\n",
        "from sklearn.metrics import classification_report, confusion_matrix\n",
        "from tensorflow.keras.preprocessing.text import one_hot\n",
        "from tensorflow.keras.preprocessing.sequence import pad_sequences\n",
        "from tensorflow.keras.callbacks import EarlyStopping, ModelCheckpoint\n",
        "from tensorflow import keras\n",
        "from imblearn.over_sampling import SMOTE"
      ],
      "metadata": {
        "id": "UCFIhFI_mgm3"
      },
      "execution_count": 77,
      "outputs": []
    },
    {
      "cell_type": "code",
      "source": [
        "# 2. Load dataset\n",
        "df = pd.read_csv('/content/Dataset.csv')\n",
        "df = df[['label', 'text']]  # Only keep relevant columns\n",
        "df.rename(columns={'label': 'class', 'text': 'tweet'}, inplace=True)"
      ],
      "metadata": {
        "id": "mu-BkDepmsDG"
      },
      "execution_count": 95,
      "outputs": []
    },
    {
      "cell_type": "code",
      "source": [
        "df.shape"
      ],
      "metadata": {
        "id": "-dFwJMnSCr4a",
        "outputId": "fa638847-ee7b-48bc-e58b-679d6990c9cf",
        "colab": {
          "base_uri": "https://localhost:8080/"
        }
      },
      "execution_count": 104,
      "outputs": [
        {
          "output_type": "execute_result",
          "data": {
            "text/plain": [
              "(40623, 4)"
            ]
          },
          "metadata": {},
          "execution_count": 104
        }
      ]
    },
    {
      "cell_type": "code",
      "source": [
        "df.head()"
      ],
      "metadata": {
        "id": "1hRL-lJyC77C"
      },
      "execution_count": null,
      "outputs": []
    },
    {
      "cell_type": "code",
      "source": [
        "print(df.columns)"
      ],
      "metadata": {
        "id": "wHH8pwU4Axg6",
        "outputId": "5cb36ec9-2158-42bc-c30f-be5ef1058503",
        "colab": {
          "base_uri": "https://localhost:8080/"
        }
      },
      "execution_count": 96,
      "outputs": [
        {
          "output_type": "stream",
          "name": "stdout",
          "text": [
            "Index(['class', 'tweet'], dtype='object')\n"
          ]
        }
      ]
    },
    {
      "cell_type": "code",
      "source": [
        "print(df['class'].unique())"
      ],
      "metadata": {
        "id": "pcNm0XIGA7SY",
        "outputId": "adbd84dd-1d66-4454-b25d-256bbabcdf62",
        "colab": {
          "base_uri": "https://localhost:8080/"
        }
      },
      "execution_count": 97,
      "outputs": [
        {
          "output_type": "stream",
          "name": "stdout",
          "text": [
            "['hate' 'nothate']\n"
          ]
        }
      ]
    },
    {
      "cell_type": "code",
      "source": [
        "# 3. Map labels to binary values\n",
        "# Convert label to lowercase and map\n",
        "df['class'] = df['class'].astype(str)\n",
        "df['class'] = df['class'].str.lower().map({'hate': 1, 'nothate': 0})\n",
        "df.dropna(subset=['class'], inplace=True)\n",
        "df['class'] = df['class'].astype(int)\n",
        "\n",
        "# Check label counts\n",
        "print(df['class'].value_counts())\n"
      ],
      "metadata": {
        "id": "JqawadCi6WHN",
        "outputId": "a3b40344-86f0-4d41-a963-aa3d813757c8",
        "colab": {
          "base_uri": "https://localhost:8080/"
        }
      },
      "execution_count": 98,
      "outputs": [
        {
          "output_type": "stream",
          "name": "stdout",
          "text": [
            "class\n",
            "1    22124\n",
            "0    18499\n",
            "Name: count, dtype: int64\n"
          ]
        }
      ]
    },
    {
      "cell_type": "code",
      "source": [
        "# 4. Clean the text\n",
        "df['processed_tweet'] = df['tweet'].str.replace(r'[^a-zA-Z]', ' ', regex=True)\n",
        "df['processed_tweet_2'] = df['processed_tweet'].str.replace(r'[\\s]+', ' ', regex=True)\n",
        "df.drop(columns=['tweet', 'processed_tweet'], inplace=True)"
      ],
      "metadata": {
        "id": "vIUCiMcWmyn2"
      },
      "execution_count": 99,
      "outputs": []
    },
    {
      "cell_type": "code",
      "source": [
        "# 5. Load spaCy model\n",
        "nlp = spacy.load('en_core_web_sm')\n",
        "\n",
        "def lemmatization(text):\n",
        "    doc = nlp(text)\n",
        "    return ' '.join([token.lemma_ for token in doc])\n",
        "\n",
        "def remove_stopwords(text):\n",
        "    doc = nlp(text)\n",
        "    return ' '.join([token.text for token in doc if not token.is_stop])"
      ],
      "metadata": {
        "id": "0hSR5_Xam1CG"
      },
      "execution_count": 100,
      "outputs": []
    },
    {
      "cell_type": "code",
      "source": [
        "# 6. Preprocessing\n",
        "df['lemma_tweet'] = df['processed_tweet_2'].apply(lemmatization)\n",
        "df['final_tweet'] = df['lemma_tweet'].apply(remove_stopwords)\n",
        "df['final_tweet'] = df['final_tweet'].str.lower()"
      ],
      "metadata": {
        "id": "3UzWnx32m3S-"
      },
      "execution_count": 101,
      "outputs": []
    },
    {
      "cell_type": "code",
      "source": [
        "# 7. One-hot and Padding\n",
        "vocab_size = 10000\n",
        "sentence_length = 20\n",
        "one_hot_representation = [one_hot(tweet, vocab_size) for tweet in df['final_tweet']]\n",
        "embedded_tweet = pad_sequences(one_hot_representation, padding='pre', maxlen=sentence_length)"
      ],
      "metadata": {
        "id": "S008Vm4pm8w_"
      },
      "execution_count": 102,
      "outputs": []
    },
    {
      "cell_type": "code",
      "source": [
        "# 8. Feature and Label\n",
        "X = np.array(embedded_tweet)\n",
        "y = np.array(df['class'])"
      ],
      "metadata": {
        "id": "sF0R3_ZJnBSW"
      },
      "execution_count": 103,
      "outputs": []
    },
    {
      "cell_type": "code",
      "source": [
        "# 9. SMOTE\n",
        "smote = SMOTE()\n",
        "X, y = smote.fit_resample(X, y)"
      ],
      "metadata": {
        "id": "JxOnQHBupsiP"
      },
      "execution_count": 105,
      "outputs": []
    },
    {
      "cell_type": "code",
      "source": [
        "# 10. Train-test split\n",
        "X_train, X_test, y_train, y_test = train_test_split(X, y, test_size=0.2, random_state=42)"
      ],
      "metadata": {
        "id": "Stw3p8KbnDgO"
      },
      "execution_count": 106,
      "outputs": []
    },
    {
      "cell_type": "code",
      "source": [
        "# 11. Model architecture (Binary classification)\n",
        "model = keras.Sequential([\n",
        "    keras.layers.Embedding(vocab_size, 50),\n",
        "    keras.layers.LSTM(100, return_sequences=True),\n",
        "    keras.layers.Dropout(0.3),\n",
        "    keras.layers.LSTM(50, return_sequences=True),\n",
        "    keras.layers.Dropout(0.3),\n",
        "    keras.layers.LSTM(50),\n",
        "    keras.layers.Dropout(0.3),\n",
        "    keras.layers.Dense(1, activation='sigmoid')  # Binary output\n",
        "])\n",
        "\n",
        "model.compile(optimizer='adam', loss='binary_crossentropy', metrics=['accuracy'])"
      ],
      "metadata": {
        "id": "riXA1x6BnH9t"
      },
      "execution_count": 107,
      "outputs": []
    },
    {
      "cell_type": "code",
      "source": [
        "# 12. Train model\n",
        "early_stop = EarlyStopping(monitor='val_loss', patience=3, restore_best_weights=True)\n",
        "model_checkpoint = ModelCheckpoint('/content/best_model.keras', save_best_only=True, monitor='val_loss', mode='min')\n",
        "\n",
        "M = model.fit(X_train, y_train, validation_split=0.2, epochs=30, batch_size=32, callbacks=[early_stop, model_checkpoint])"
      ],
      "metadata": {
        "id": "0DXOP7Fz3Zn2",
        "outputId": "63cdf2e6-4214-4664-eca9-67678cfcd3d0",
        "colab": {
          "base_uri": "https://localhost:8080/"
        }
      },
      "execution_count": 108,
      "outputs": [
        {
          "output_type": "stream",
          "name": "stdout",
          "text": [
            "Epoch 1/30\n",
            "\u001b[1m885/885\u001b[0m \u001b[32m━━━━━━━━━━━━━━━━━━━━\u001b[0m\u001b[37m\u001b[0m \u001b[1m31s\u001b[0m 30ms/step - accuracy: 0.5848 - loss: 0.6574 - val_accuracy: 0.7355 - val_loss: 0.5279\n",
            "Epoch 2/30\n",
            "\u001b[1m885/885\u001b[0m \u001b[32m━━━━━━━━━━━━━━━━━━━━\u001b[0m\u001b[37m\u001b[0m \u001b[1m41s\u001b[0m 30ms/step - accuracy: 0.7712 - loss: 0.4826 - val_accuracy: 0.7479 - val_loss: 0.5099\n",
            "Epoch 3/30\n",
            "\u001b[1m885/885\u001b[0m \u001b[32m━━━━━━━━━━━━━━━━━━━━\u001b[0m\u001b[37m\u001b[0m \u001b[1m40s\u001b[0m 28ms/step - accuracy: 0.8152 - loss: 0.3994 - val_accuracy: 0.7517 - val_loss: 0.5200\n",
            "Epoch 4/30\n",
            "\u001b[1m885/885\u001b[0m \u001b[32m━━━━━━━━━━━━━━━━━━━━\u001b[0m\u001b[37m\u001b[0m \u001b[1m25s\u001b[0m 28ms/step - accuracy: 0.8508 - loss: 0.3338 - val_accuracy: 0.7470 - val_loss: 0.5654\n",
            "Epoch 5/30\n",
            "\u001b[1m885/885\u001b[0m \u001b[32m━━━━━━━━━━━━━━━━━━━━\u001b[0m\u001b[37m\u001b[0m \u001b[1m42s\u001b[0m 29ms/step - accuracy: 0.8697 - loss: 0.2872 - val_accuracy: 0.7353 - val_loss: 0.6554\n"
          ]
        }
      ]
    },
    {
      "cell_type": "code",
      "source": [
        "# 13. Evaluate\n",
        "loss, accuracy = model.evaluate(X_test, y_test)\n",
        "print(f'Model Accuracy: {accuracy * 100:.2f}%')"
      ],
      "metadata": {
        "id": "e8DdGDj9nNuW",
        "outputId": "7fbc6b8c-8863-4fe8-f110-cf18fb8151da",
        "colab": {
          "base_uri": "https://localhost:8080/"
        }
      },
      "execution_count": 109,
      "outputs": [
        {
          "output_type": "stream",
          "name": "stdout",
          "text": [
            "\u001b[1m277/277\u001b[0m \u001b[32m━━━━━━━━━━━━━━━━━━━━\u001b[0m\u001b[37m\u001b[0m \u001b[1m2s\u001b[0m 8ms/step - accuracy: 0.7368 - loss: 0.5209\n",
            "Model Accuracy: 74.16%\n"
          ]
        }
      ]
    },
    {
      "cell_type": "code",
      "source": [
        "# 14. Prediction & Evaluation\n",
        "pred_prob = model.predict(X_test)\n",
        "pred = (pred_prob > 0.5).astype(int)\n",
        "print(classification_report(y_test, pred))"
      ],
      "metadata": {
        "id": "4ul5xYiMnQsH",
        "outputId": "f9ed5563-ab11-4efb-fc63-de19809b2d09",
        "colab": {
          "base_uri": "https://localhost:8080/"
        }
      },
      "execution_count": 110,
      "outputs": [
        {
          "output_type": "stream",
          "name": "stdout",
          "text": [
            "\u001b[1m277/277\u001b[0m \u001b[32m━━━━━━━━━━━━━━━━━━━━\u001b[0m\u001b[37m\u001b[0m \u001b[1m3s\u001b[0m 10ms/step\n",
            "              precision    recall  f1-score   support\n",
            "\n",
            "           0       0.77      0.68      0.73      4421\n",
            "           1       0.72      0.80      0.76      4429\n",
            "\n",
            "    accuracy                           0.74      8850\n",
            "   macro avg       0.74      0.74      0.74      8850\n",
            "weighted avg       0.74      0.74      0.74      8850\n",
            "\n"
          ]
        }
      ]
    },
    {
      "cell_type": "code",
      "source": [
        "# 15. Confusion Matrix\n",
        "cf = confusion_matrix(y_test, pred, normalize='true')\n",
        "sns.heatmap(cf, annot=True, cmap='crest')\n",
        "plt.xlabel('PREDICTED')\n",
        "plt.ylabel('ACTUAL')\n",
        "plt.title('Confusion Matrix')\n",
        "plt.show()"
      ],
      "metadata": {
        "id": "8r6_Tx8Ez9k7",
        "outputId": "7089e16b-1e78-41c6-d876-c60c38ea9674",
        "colab": {
          "base_uri": "https://localhost:8080/",
          "height": 472
        }
      },
      "execution_count": 111,
      "outputs": [
        {
          "output_type": "display_data",
          "data": {
            "text/plain": [
              "<Figure size 640x480 with 2 Axes>"
            ],
            "image/png": "[encoded data removed]"
          },
          "metadata": {}
        }
      ]
    },
    {
      "cell_type": "code",
      "source": [
        "def preprocess_text(text):\n",
        "    text = text.lower()\n",
        "    text = ''.join([ch if ch.isalpha() else ' ' for ch in text])\n",
        "    text = ' '.join(text.split())\n",
        "    text = lemmatization(text)\n",
        "    text = remove_stopwords(text)\n",
        "    encoded = one_hot(text, vocab_size)\n",
        "    padded = pad_sequences([encoded], maxlen=sentence_length, padding='pre')\n",
        "    return padded\n",
        "\n",
        "def predict_hate_speech(text):\n",
        "    padded = preprocess_text(text)\n",
        "    prediction = model.predict(padded)[0][0]\n",
        "    return \"Hate Speech\" if prediction >= 0.5 else \"Normal Text\""
      ],
      "metadata": {
        "id": "2UWpnR1dnaFu"
      },
      "execution_count": 112,
      "outputs": []
    },
    {
      "cell_type": "code",
      "source": [
        "# Check the model\n",
        "user_input = input(\"Enter a sentence to check for hate speech: \")\n",
        "result = predict_hate_speech(user_input)\n",
        "print(\"Prediction:\", result)"
      ],
      "metadata": {
        "id": "q-ydtcKEqWa3",
        "outputId": "eb248fcb-b9db-44ee-853e-3b93ddfc03b8",
        "colab": {
          "base_uri": "https://localhost:8080/"
        }
      },
      "execution_count": 115,
      "outputs": [
        {
          "output_type": "stream",
          "name": "stdout",
          "text": [
            "Enter a sentence to check for hate speech: i will kill you\n",
            "\u001b[1m1/1\u001b[0m \u001b[32m━━━━━━━━━━━━━━━━━━━━\u001b[0m\u001b[37m\u001b[0m \u001b[1m0s\u001b[0m 41ms/step\n",
            "Prediction: Normal Text\n"
          ]
        }
      ]
    }
  ],
  "metadata": {
    "colab": {
      "name": "Welcome to Colab",
      "provenance": [],
      "include_colab_link": true
    },
    "kernelspec": {
      "display_name": "Python 3",
      "name": "python3"
    }
  },
  "nbformat": 4,
  "nbformat_minor": 0
}
